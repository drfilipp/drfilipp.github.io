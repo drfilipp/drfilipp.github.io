{
 "cells": [
  {
   "cell_type": "markdown",
   "metadata": {},
   "source": [
    "# RNA Sequencing Through Expectation Maximization\n",
    "\n",
    "### Introduction\n",
    "\n",
    "A classic problem from computational biology is that RNA sequencing. RNA transcripts consist of nucleotides (A, G, C, and T) that contain instructions for making proteins in organisms. In this problem, we want to estimate how many of each type of RNA transcript is present in a given cell. [High through sequencing methods](https://en.wikipedia.org/wiki/DNA_sequencing#High-throughput_methods) provide data containing _reads_, which are short, randomly sampled bits of the RNA sequence. By observing the reads, we wish to estimate the distribution of transcripts in the cell, i.e. the fraction of each read to the total number of reads.\n",
    "\n",
    "We'll consider the following problem, simplified considerably from reality. We have a set of RNA transcripts that we know the sequense of. We take a number of reads from a cell, which are randomly selected segments of known length from any of the available RNA. We sequence the reads and match them to the full transcripts, allowing us to estimate the distribution of transcripts. If every read was uniquely associated with a single transcript, this would be a fair easy prolem. Instead, our problem is complicated by the fact that individual reads could come from multiple transcripts. In other words, there is _ambiguity_ to the reads, as illustrated in the following figure:\n",
    "\n",
    "![transcripts](imgs/rna1.png)\n",
    "\n",
    "For instance, \"Read 1\" might be the sequence `AGACT`, which is present on all three transcripts illustrated here.\n",
    "\n",
    "Now to formalize the problem. We assume that there are $m$ transcripts each of length $\\ell_t$, and we take $n$ reads each of length $\\ell_r$. Additionally, we assume that within the cell we are testing, the probability of selecting transcript $t$ is $\\rho_t$ for $t=1,\\ldots,m$. For this to be a valid probability distribution, it must be the case that\n",
    "\n",
    "$$\\sum_{t=1}^{m} \\rho_t = 1$$.\n",
    "\n",
    "We use the notation that the $i^{\\text{th}}$ read comes from a randomly chosen transcript $T_i$, following the distribution $\\rho_1,\\ldots,\\rho_m$. Each read can come from a random position within the selected transcript. The number of possible starting positions within a given transcript is\n",
    "\n",
    "$$\\ell = \\ell_t - \\ell_r + 1$$.\n",
    "\n",
    "So, given a set of reads $\\left\\{R_1,\\ldots,R_n\\right\\}$ (which we assume to be independent), we estimate the distribution $\\rho_1,\\ldots,\\rho_m$ that is most likely to result in the observed reads. We do this by maximizing the following likelihood function:\n",
    "\n",
    "$$L\\left(\\rho_1,\\ldots,\\rho_m\\right) = \\prod_{i=1}^n P\\left(R_i=r_i;\\rho_1,\\ldots,\\rho_m\\right)$$\n",
    "\n",
    "We assume that...\n",
    "\n",
    "1. The sequence of nucleotides (A, G, C, T) in each transcipt is known.\n",
    "2. Each read can only come from at most one location in a transcript.\n",
    "\n",
    "### Solving a simplier problem first\n",
    "\n",
    "As a warmup, let's consider the case that there is _not_ ambiguity in the reads. That is, every read can only come from one single transcript, as in the following figure:\n",
    "\n",
    "![transcripts](imgs/rna2.png)\n",
    "\n",
    "Consider the following: What is the probability that the $i^{\\text{th}}$ observed read $R_i$ is a particular sequence $r_i$? In other words, what is $P(R_i=r_i)$? Let $t_i$ be the transcript where sequence $r_i$ occurs, where $t_i\\in\\left\\{1,2,\\ldots,m\\right\\}$. By the law of total probability, \n",
    "\n",
    "$$\n",
    "P(R_i=r_i) = \\sum_{j=1}^m P(R_i=r_i \\cap T_i=j)\n",
    "$$\n",
    "\n",
    "However, we know that each sequence can only occur on one transcript so $P(R_i=r_i \\cap T_i=j)=0$ when $j \\neq t_i$. So, that eleminates all but one term in the sum. Then, we apply the definition of conditional probability as follows:\n",
    "\n",
    "$$\n",
    "\\begin{align}\n",
    "P(R_i=r_i) &= \\sum_{j=1}^m P(R_i=r_i \\cap T_i=j) \\\\\n",
    "&= P(R_i=r_i \\cap T_i=t_i) \\\\\n",
    "&= P(R_i=r_i \\mid T_i=t_i)P(T_i=t_i)\n",
    "\\end{align}\n",
    "$$\n",
    "\n",
    "The first term is the conditional probability that $r_i$ is observed, given that transcript $t_i$ was selected. This is straightforward. As previously mentioned, there are $\\ell = \\ell_t - \\ell_r + 1$ possible starting positions within a transcript. Only one of them will result in the observe sequence, so\n",
    "\n",
    "$$\n",
    "P(R_i=r_i \\mid T_i=t_i) = \\frac{1}{\\ell_t - \\ell_r + 1} = \\frac{1}{\\ell}.\n",
    "$$\n",
    "\n",
    "Additonally, the second term is the probability of selecting that particular transcript, so\n",
    "\n",
    "$$\n",
    "P(T_i=t_i) = \\rho_{t_i}.\n",
    "$$\n",
    "\n",
    "Bringing this all together, we have:\n",
    "\n",
    "$$\n",
    "P(R_i=r_i) = \\frac{\\rho_{t_i}}{\\ell}\n",
    "$$\n",
    "\n",
    "Okay! Now let's do a sanity check. Let's suppose that there are only two possible transcript. What is the maximum likelihood estimate (MLE) of $\\rho_1$ and $\\rho_2$, assuming that we observe $k$ reads compatible with transcript 1 and $n-k$ reads compatible with transcript 2?\n",
    "\n",
    "\n",
    "Let's start by forming the maximum likelihood equation.\n",
    "\n",
    "$$\n",
    "\\begin{align}\n",
    "L(\\rho_1, \\rho_2) &= \\prod_{i=1}^{n}{  P(R_i=r_i;\\rho_1, \\rho_2)  } \\\\\n",
    "&= \\left(\\frac{\\rho_{1}}{\\ell_t - \\ell_r +1}\\right)^k \\left(\\frac{\\rho_{2}}{\\ell_t - \\ell_r +1}\\right)^{n-k} \\\\ \n",
    "&= \\frac{\\rho_{1}^k \\rho_{2}^{n-k}}{\\left(\\ell_t - \\ell_r +1\\right)^n}\n",
    "\\end{align}\n",
    "$$\n",
    "\n",
    "Where,\n",
    "\n",
    "$$\\ell = \\ell_t - \\ell_r +1$$\n",
    "\n",
    "We can see that $L$ is maximized when its numerator is maximized:\n",
    "\n",
    "$$\\max_{\\rho_1}L=\\max_{\\rho_1}\\rho_{1}^k \\left(1-\\rho_{1}\\right)^{n-k}$$\n",
    "\n",
    "Take the derivative with respect to $\\rho_1$ and set equal to zero:\n",
    "\n",
    "$$\\frac{d}{d \\rho_1} \\left(\\rho_{1}^k \\left(1-\\rho_{1}\\right)^{n-k} \\right)= (k-n\\rho_1) \\rho_1^{k-1}\\left(1-\\rho_{1}\\right)^{n-k-1}=0$$\n",
    "\n",
    "The solutions for the above equation are\n",
    "\n",
    "$$\\rho_1 = 0, 1, \\frac{k}{n}$$\n",
    "\n",
    "And $L$ is maximized for $\\rho_1=\\frac{k}{n}$. \n",
    "\n",
    "So, \n",
    "\n",
    "$$\\begin{align}\\hat{\\rho}_1 &= \\frac{k}{n} \\\\ \\hat{\\rho}_2 &= 1 - \\frac{k}{n} = \\frac{n - k}{n} \\end{align}$$\n",
    "\n",
    "So, in the simple case that we have two transcripts and no ambiguity in reads, the MLE of the distribution is simply the fraction of observed reads compatible with the given transcript.\n",
    "\n",
    "By following this pattern (and leaving the rigorous proof to the reader), we can expand this to the case of $m$ transcripts (still with no ambiguity). Assuming that out of $n$ reads, $k_i$ reads are compatible with transcript $i$, such that $\\sum_{i=1}^{m}{k_i} = n$, the maximum likelihood estimator of $\\rho_1,\\ldots,\\rho_m$ is\n",
    "\n",
    "$$\n",
    "\\hat{\\rho}_i = \\frac{k_i}{n},\\quad\\quad\\text{for }i=1,\\ldots,m.\n",
    "$$\n",
    "\n",
    "Okay, that was a good warm-up. Now on to the real problem...\n",
    "\n",
    "### Modeling the problem with ambiguity\n",
    "\n",
    "Now, we return to the case that an observable sequence can be present in multiple transcripts. We still assume that each read can occur in at most one location on a transcript. We'll encode the information about what reads can occur in what transcripts in a _compatibility matrix_, $A$, where entry $A_{ij}$ is 1 if read $r_i$ can occur in transcript $j$ and 0 otherwise. An example is given below.\n",
    "\n",
    "$$\n",
    "A = \\left[ \\begin{matrix} 1 & 1 & 1 \\\\ 0 & 1 & 1 \\\\ 1 & 0 & 1 \\\\ 1 & 0 & 0 \\\\ 1 & 1 & 0 \\end{matrix}\\right]\n",
    "$$\n",
    "\n",
    "![transcripts](imgs/rna1.png)\n",
    "\n",
    "So, given an arbitrary compatibility matrix, what is the maximum likelihood expression for $\\rho_1,\\ldots,\\rho_m$? As before, we want to consider the probability of observing a specific read, given a distribution of $\\rho$'s.\n",
    "\n",
    "$$P(R_i=r_i;\\rho_1, \\ldots, \\rho_m) = \\sum_{j=1}^m P(R_i=r_i \\cap T_i=j)$$\n",
    "\n",
    "However, this time, $r_i$ can be associated with multiple possible transcripts, so the sum does not collapse. Instead, we sum over the rows of $A$.\n",
    "\n",
    "$$P(R_i=r_i;\\rho_1, \\ldots, \\rho_m) = \\sum_{j=1}^m A_{ij} P(R_i=r_i \\cap T_i=j) $$\n",
    "\n",
    "Lets, define the vector $\\rho$: \n",
    "\n",
    "$$\\rho = \\left[ \\begin{matrix} \\rho_1 \\\\ \\vdots \\\\ \\rho_m \\end{matrix} \\right]$$\n",
    "\n",
    "Which allows us to put the probability of observing $r_i$ in compact form:\n",
    "\n",
    "$$\\begin{align}P(R_i=r_i;\\rho_1, \\ldots, \\rho_m) &= \\sum_{j=1}^m A_{ij} P(R_i=r_i \\cap T_i=j)\\\\\n",
    "&= \\sum_{j=1}^m A_{ij} P(R_i=r_i \\mid T_i=j)P(T_i=j) \\\\\n",
    "&= \\frac{1}{\\ell}\\sum_{j=1}^m A_{ij} P(T_i=j) \\\\\n",
    "&= \\frac{1}{\\ell} e_{i}^T A \\rho\\end{align} $$\n",
    "\n",
    "Where $e_{i} \\in \\mathbf{R}^n$ is a vector with all zeros except for a one in position $i$.\n",
    "\n",
    "Now, we can form the maximum likelihood function.\n",
    "\n",
    "$$\\begin{align}L(\\rho_1, \\ldots \\rho_m) &= \\prod_{i=1}^{n}{  P(R_i=r_i;\\rho_1, \\ldots \\rho_m)  } \\\\\n",
    "&= \\prod_{i=1}^{n} \\frac{1}{\\ell} e_{i}^T A \\rho \\\\\n",
    "&= \\frac{1}{\\ell^n}\\prod_{i=1}^{n} e_{i}^T A \\rho \\end{align}$$\n",
    "\n",
    "Let's apply this model to the example above, with $m=3$ and $n=5$. There are five terms in the product.\n",
    "\n",
    "$$\\begin{align}\n",
    "e_{1}^T A \\rho &= \\left[\\begin{matrix} 1 & 0& 0 & 0& 0\\end{matrix}\\right] \\left[\\begin{matrix} 1 & 1 & 1 \\\\ 0 & 1 & 1 \\\\ 1 & 0 & 1 \\\\ 1 & 0 & 0 \\\\ 1 & 1 & 0\\end{matrix}\\right]\\left[ \\begin{matrix} \\rho_1 \\\\ \\rho_2 \\\\ \\rho_3 \\end{matrix} \\right] \\\\\n",
    "&= \\left[\\begin{matrix} 1 & 1 & 1 \\end{matrix}\\right]\\left[ \\begin{matrix} \\rho_1 \\\\ \\rho_2 \\\\ \\rho_3 \\end{matrix} \\right] \\\\\n",
    "&= \\rho_1 + \\rho_2 + \\rho_3 \\\\\n",
    "e_{2}^T A \\rho &= \\rho_2 + \\rho_3 \\\\\n",
    "e_{3}^T A \\rho &= \\rho_1 + \\rho_3 \\\\\n",
    "e_{4}^T A \\rho &= \\rho_1 \\\\\n",
    "e_{5}^T A \\rho &= \\rho_1 + \\rho_2\n",
    "\\end{align}$$\n",
    "\n",
    "Which gives us the likelihood equation:\n",
    "\n",
    "$$ L(\\rho_1, \\ldots, \\rho_3) = \\frac{1}{\\ell^5} (\\rho_1 + \\rho_2 +\\rho_3)(\\rho_2 + \\rho_3)(\\rho_1 + \\rho_3)(\\rho_1)(\\rho_1 + \\rho_2) $$\n",
    "\n",
    "Using $\\rho_1 + \\rho_2 + \\rho_3 = 1$, maximizing the likelihood is equivalent to maximizing the following.\n",
    "\n",
    "$$\n",
    "\\begin{align}\n",
    "    & (\\rho_2 + \\rho_3)(\\rho_1 + \\rho_3)\\rho_1(\\rho_1 + \\rho_2) \\\\\n",
    "    & = (\\rho_2 + \\rho_3)(1-\\rho_2)(1-\\rho_2-\\rho_3)(1-\\rho_3) \\\\\n",
    "        & = (\\rho_2 + \\rho_3)(1-\\rho_2-\\rho_3+\\rho_2\\rho_3)(1-\\rho_2-\\rho_3)\n",
    "\\end{align}\n",
    "$$\n",
    "\n",
    "We can observe that whatever value is chosen for $\\rho_2 + \\rho_3=1-\\rho_1$, the above equation is maximized when $\\rho_2\\rho_3$ is maximized. This implies that $\\rho_2 = \\rho_3$.\n",
    "\n",
    "$$\\begin{align}\n",
    "L(\\rho_1, \\ldots, \\rho_3) &= (2\\rho_2)(1-2\\rho_2+\\rho_2^2)(1-2\\rho_2) \\\\\n",
    "&= -4\\rho_2^4+1-\\rho_2^3-8\\rho_2^2+2\\rho_2 \\\\\n",
    "\\frac{d}{d\\rho_2}L(\\rho_1, \\ldots, \\rho_3) &= -16\\rho_2^3 + 30\\rho_2^2 -16\\rho_2 + 2 \\\\\n",
    "&= -2\\left(\\rho_2-1\\right)\\left(8\\rho_2^2-7\\rho_2+1\\right)\n",
    "\\end{align}$$\n",
    "\n",
    "So, the likelihood function has a maxima or minima at $\\rho_2=1,\\frac{7}{16} \\pm \\frac{\\sqrt{17}}{16}$. Plugging these back into the equation, we see that the function is maximized at \n",
    "\n",
    "$$\\hat{\\rho}_2 = \\hat{\\rho}_3 = \\frac{7}{16} - \\frac{\\sqrt{17}}{16}, \\;\\hat{\\rho}_1 = 1-\\hat{\\rho}_2-\\hat{\\rho}_3 = \\frac{2}{16} + \\frac{\\sqrt{17}}{8}$$. \n",
    "\n",
    "So, in this particular case, we can solve for the probability distribution exactly. What about the general case? Enter the EM algorithm.\n",
    "\n",
    "### The expectation-maximization (EM) algorithm\n",
    "\n",
    "The [EM algorithm](https://en.wikipedia.org/wiki/Expectation%E2%80%93maximization_algorithm) is an iterative method for maximizing a likelihood function over some latent variables ($\\rho_1,\\ldots,\\rho_m). In many cases (like this one), it is not tractable to directly maximize the likelihood function. Instead, we alternate between two steps:\n",
    "\n",
    "1. Guess at the values that we want and calculate (E-step)\n",
    "2. Maximize the expectation with respect to the latent variables.\n",
    "\n",
    "Let's try applying the approach to this problem. Suppose for a minute that we observe a read that only appears in transcripts 1 and 4. Further, suppose we knew that $\\rho_1=0.1$ and $\\rho_2=0.3$. Then the probability, that the read was actually sampled from transcript 1 would be\n",
    "\n",
    "$$\n",
    "\\frac{\\text{probability of selecting $t_1$}}{\\text{probability of selecting $t_1$ or $t_4$}} = \\frac{\\rho_1}{\\rho_1+\\rho_2} = \\frac{0.1}{0.1+0.3} = 0.25\n",
    "$$\n",
    "\n",
    "In general, the probability of selecting a particular transcript given a read is\n",
    "\n",
    "$$\\begin{align}\n",
    "P(T_i=j \\mid R_i=r_i) & = \\frac{A_{ij}\\rho_j}{\\sum_{k=1}^m A_{ik}\\rho_k}\\\\\n",
    "    &= \\frac{A_{ij}\\rho_j}{e_{i}^T A \\rho}\n",
    "\\end{align}$$\n",
    "\n",
    "So, if we observe that particular sequence $k$ times, we would assume that the sequence was drawn from transcript $j$\n",
    "\n",
    "$$kP(T_i=j \\mid R_i=r_i)$$\n",
    "\n",
    "times. At this point, we ask ourselves: Given the accounting of observations, what is the most likely estimate of $\\rho$? We addressed this in the section with the simplifying assumption that there is no ambiguity in reads. As we showed then, the ML estimate of $\\rho_j$ is simply the empirical fraction of reads that are compatible with transcript $j$. Therefore, after observing all $n$ reads, we could update the estimate of $\\rho_j$ as follows based on a fixed estimate $\\bar{\\rho}$:\n",
    "\n",
    "$$\\begin{align}\n",
    "\\hat{\\rho_j} &= \\frac{1}{n}\\sum_{i=1}^n P(T_i=j \\mid R_i=r_i) \\\\\n",
    "&= \\frac{1}{n}\\sum_{i=1}^n \\frac{A_{ij}\\bar{\\rho}_j}{e_{i}^T A \\bar{\\rho}}\n",
    "\\end{align}$$\n",
    "\n",
    "To recap, here's our approach:\n",
    "\n",
    "1. Proportionally assign the reads according to the current guess for $\\rho$(E-step)\n",
    "2. Update the estimates of the parameters based on this allocation (M-step).\n",
    "\n",
    "Proving that this iterative algorithm converges to the ML estimate is beyond the scope of this post. Instead, we'll turn to a numerical example.\n",
    "\n",
    "Let's start by applying EM to the previous example we worked out by hand."
   ]
  },
  {
   "cell_type": "code",
   "execution_count": 1,
   "metadata": {
    "collapsed": true
   },
   "outputs": [],
   "source": [
    "import numpy as np\n",
    "import matplotlib.pyplot as plt\n",
    "%matplotlib inline\n",
    "import seaborn as sns\n",
    "sns.set(context='talk', style='darkgrid', palette='colorblind')"
   ]
  },
  {
   "cell_type": "markdown",
   "metadata": {},
   "source": [
    "We'll set up a function to calculate $P(T_i=j \\mid R_i=r_i)$ for the E-step. In addition, we'll create a function for calculating the [log-likelihood](https://en.wikipedia.org/wiki/Likelihood_function#Log-likelihood) equation. \n",
    "\n",
    "$$\\begin{align}\n",
    "\\ell(\\rho) &= \\log\\left[ \\frac{1}{\\ell^n}\\prod_{i=1}^{n} e_{i}^T A \\rho \\right] \\\\\n",
    "&= -\\log\\left(\\ell^n\\right) + \\sum_{i=1}^{n} \\log\\left( e_{i}^T A \\rho \\right)\n",
    "\\end{align}$$\n",
    "\n",
    "This isn't necessary for the algorithm, but it allows us to directly observe the algorithm maximizing this equation. Why have we switched to log-likelihood? Numerical stability. The likelihood function is the product of $n$ many terms, each of which is between 0 and 1. This means that the likelihood function gets vanishingly small for large $n$. By taking the natural logarithm of the likelihood, we are now summing $n$ negative numbers instead. Because the logarithm is a monotonically increasing function, we know that the log-likelihood function is maximized when the likelihood function is maximized."
   ]
  },
  {
   "cell_type": "code",
   "execution_count": 2,
   "metadata": {
    "collapsed": true
   },
   "outputs": [],
   "source": [
    "def Pr(Tj, Ri, rho, compat_matrix):\n",
    "    rho_j = rho[Tj]\n",
    "    ei = np.zeros(compat_matrix.shape[0])\n",
    "    ei[Ri] = 1\n",
    "    return compat_matrix[i, j] * rho_j / np.dot(ei, np.dot(compat_matrix, rho))\n",
    "\n",
    "def log_likelihood(rho, compat_matrix, scale=1.):\n",
    "    output = 0\n",
    "    for i in xrange(compat_matrix.shape[0]):\n",
    "        output += np.log(compat_matrix[i].dot(rho))\n",
    "    return output"
   ]
  },
  {
   "cell_type": "markdown",
   "metadata": {},
   "source": [
    "Set up the given parameters, the observed compatibility matrix, and the initial estimate of $\\rho$."
   ]
  },
  {
   "cell_type": "code",
   "execution_count": 3,
   "metadata": {
    "collapsed": true
   },
   "outputs": [],
   "source": [
    "N_iter = 50 # number of EM iterations\n",
    "A = np.array([\n",
    "        [1, 1, 1],\n",
    "        [0, 1, 1],\n",
    "        [1, 0, 1],\n",
    "        [1, 0, 0],\n",
    "        [1, 1, 0]\n",
    "    ])\n",
    "n = A.shape[0]\n",
    "m = A.shape[1]\n",
    "rho_est = [1./m] * m"
   ]
  },
  {
   "cell_type": "markdown",
   "metadata": {},
   "source": [
    "And run the algorithm..."
   ]
  },
  {
   "cell_type": "code",
   "execution_count": 4,
   "metadata": {},
   "outputs": [],
   "source": [
    "rho_old = rho_est\n",
    "Ls = np.ones(N_iter, dtype=float)\n",
    "for ix in range(N_iter):\n",
    "    rho_new = [(1./n) * np.sum([Pr(j, i, rho_old, A) for i in xrange(n)]) for j in xrange(m)]\n",
    "    rho_old = rho_new\n",
    "    Ls[ix] = log_likelihood(rho_new, A)\n",
    "\n",
    "rho_est = rho_new"
   ]
  },
  {
   "cell_type": "markdown",
   "metadata": {},
   "source": [
    "Here's the exact result we worked out before:"
   ]
  },
  {
   "cell_type": "code",
   "execution_count": 5,
   "metadata": {
    "collapsed": true
   },
   "outputs": [],
   "source": [
    "rho_ml = [2./16 + np.sqrt(17)/8, 7./16 - np.sqrt(17)/16, 7./16 - np.sqrt(17)/16]"
   ]
  },
  {
   "cell_type": "markdown",
   "metadata": {},
   "source": [
    "And now we can compare the results:"
   ]
  },
  {
   "cell_type": "code",
   "execution_count": 6,
   "metadata": {},
   "outputs": [
    {
     "name": "stdout",
     "output_type": "stream",
     "text": [
      "Exact ML:    0.64039, 0.17981, 0.17981\n",
      "EM estimate: 0.64039, 0.17981, 0.17981\n"
     ]
    }
   ],
   "source": [
    "print 'Exact ML:    {:.5f}, {:.5f}, {:.5f}'.format(*rho_ml)\n",
    "print 'EM estimate: {:.5f}, {:.5f}, {:.5f}'.format(*rho_est)"
   ]
  },
  {
   "cell_type": "markdown",
   "metadata": {},
   "source": [
    "Spot on! Let's check out the learning curve."
   ]
  },
  {
   "cell_type": "code",
   "execution_count": 7,
   "metadata": {},
   "outputs": [
    {
     "data": {
      "image/png": "[encoded data removed]",
      "text/plain": [
       "<matplotlib.figure.Figure at 0x10c9d6d10>"
      ]
     },
     "metadata": {},
     "output_type": "display_data"
    }
   ],
   "source": [
    "fig = plt.figure(figsize=(8,6))\n",
    "plt.plot(Ls, linewidth=1)\n",
    "plt.xlabel('Iteration')\n",
    "plt.ylabel('Log-Likelihood function value')\n",
    "plt.show()"
   ]
  },
  {
   "cell_type": "markdown",
   "metadata": {},
   "source": [
    "So, the EM estimate matches the analytical solution, and we can see empirically that the algorithm monotonically increased the likelihood function.\n",
    "\n",
    "Now, let's try a larger, randomly generated dataset.\n",
    "\n",
    "Start by defining some transcripts."
   ]
  },
  {
   "cell_type": "code",
   "execution_count": 8,
   "metadata": {},
   "outputs": [
    {
     "data": {
      "text/plain": [
       "['AGAGCCGTACAGACCCCATCTCGAAAGCAGAATCTTGCGGTTACTGAGGGGTAAGATAAGTAGAGTATGGCCCGGCCAGCTTAGCTGCGCATGACATGTT',\n",
       " 'CGAGCGGATCTAGCATATACAAGCAGTCAGGTTTTTGAGGCAGGTGGTGAGATTCGTATACGCTTTACAGGTGCTTCCGACACGTGAGCGGTGCAGTGCA']"
      ]
     },
     "execution_count": 8,
     "metadata": {},
     "output_type": "execute_result"
    }
   ],
   "source": [
    "m = 10\n",
    "l_t = 100\n",
    "transcripts = [''.join(np.random.choice(list('AGCT'), l_t)) for i in xrange(m)]\n",
    "transcripts[:2]"
   ]
  },
  {
   "cell_type": "markdown",
   "metadata": {},
   "source": [
    "Next, randomly generate the true distribution $\\rho_1, \\ldots, \\rho_m$."
   ]
  },
  {
   "cell_type": "code",
   "execution_count": 9,
   "metadata": {},
   "outputs": [
    {
     "data": {
      "text/plain": [
       "<Container object of 10 artists>"
      ]
     },
     "execution_count": 9,
     "metadata": {},
     "output_type": "execute_result"
    },
    {
     "data": {
      "image/png": "[encoded data removed]",
      "text/plain": [
       "<matplotlib.figure.Figure at 0x10c9d6ad0>"
      ]
     },
     "metadata": {},
     "output_type": "display_data"
    }
   ],
   "source": [
    "rho = np.random.rand(m)\n",
    "rho /= sum(rho)\n",
    "plt.bar(np.arange(m) + 0.6, rho, width=0.8)"
   ]
  },
  {
   "cell_type": "markdown",
   "metadata": {},
   "source": [
    "We'll then pick 1000 random reads of length 5 each."
   ]
  },
  {
   "cell_type": "code",
   "execution_count": 10,
   "metadata": {
    "collapsed": true
   },
   "outputs": [],
   "source": [
    "n = 1000 # Number of reads\n",
    "l_r = 5"
   ]
  },
  {
   "cell_type": "code",
   "execution_count": 11,
   "metadata": {
    "collapsed": true
   },
   "outputs": [],
   "source": [
    "def random_read(transcripts, rho, l_r):\n",
    "    chosen_seq = np.random.choice(transcripts, p=rho)\n",
    "    start_idx = np.random.randint(0, len(chosen_seq) - l_r)\n",
    "    end_idx = start_idx + l_r\n",
    "    return chosen_seq[ start_idx:end_idx ]"
   ]
  },
  {
   "cell_type": "code",
   "execution_count": 12,
   "metadata": {},
   "outputs": [
    {
     "name": "stdout",
     "output_type": "stream",
     "text": [
      "First 10 reads... ['TCAGG', 'GCCTT', 'CGAAA', 'GGTGT', 'TTATT', 'GATAA', 'TTCTC', 'CTGCC', 'GCCAG', 'ATTCT']\n"
     ]
    }
   ],
   "source": [
    "reads = [random_read(transcripts, rho, l_r) for _ in xrange(n)]\n",
    "print'First 10 reads...', reads[0:10]"
   ]
  },
  {
   "cell_type": "markdown",
   "metadata": {},
   "source": [
    "Based on the observed data, construct the alignment matrix."
   ]
  },
  {
   "cell_type": "code",
   "execution_count": 13,
   "metadata": {
    "collapsed": true
   },
   "outputs": [],
   "source": [
    "def find_all_alignments(transcripts, read):\n",
    "    n = len(transcripts)\n",
    "    tmp = np.zeros(n)\n",
    "    for j in range(n):\n",
    "        if read in transcripts[j]:\n",
    "            tmp[j] = 1\n",
    "    return tmp"
   ]
  },
  {
   "cell_type": "code",
   "execution_count": 21,
   "metadata": {},
   "outputs": [
    {
     "data": {
      "image/png": "[encoded data removed]",
      "text/plain": [
       "<matplotlib.figure.Figure at 0x10e2a9450>"
      ]
     },
     "metadata": {},
     "output_type": "display_data"
    }
   ],
   "source": [
    "A = np.array([find_all_alignments(transcripts, read) for read in reads])\n",
    "sns.heatmap(A[:10])\n",
    "plt.title('First 10 rows of A')\n",
    "plt.show()"
   ]
  },
  {
   "cell_type": "markdown",
   "metadata": {},
   "source": [
    "And now, run the EM algorithm, same as before. "
   ]
  },
  {
   "cell_type": "code",
   "execution_count": 15,
   "metadata": {},
   "outputs": [],
   "source": [
    "N_iter = 100 # number of EM iterations\n",
    "# Initialize the initial estimates\n",
    "rho_old = [1./m] * m\n",
    "Ls = np.ones(N_iter, dtype=float)\n",
    "\n",
    "for ix in range(N_iter):\n",
    "    rho_new = [(1./n) * np.sum([Pr(j, i, rho_old, A) for i in xrange(n)]) for j in xrange(m)]\n",
    "    rho_old = rho_new\n",
    "    Ls[ix] = log_likelihood(rho_new, A, scale=1e1000)\n",
    "\n",
    "rho_est = rho_new"
   ]
  },
  {
   "cell_type": "markdown",
   "metadata": {},
   "source": [
    "Finally, let's plot the estimated distribution next to the true distribution."
   ]
  },
  {
   "cell_type": "code",
   "execution_count": 16,
   "metadata": {},
   "outputs": [
    {
     "data": {
      "image/png": "[encoded data removed]",
      "text/plain": [
       "<matplotlib.figure.Figure at 0x10cb244d0>"
      ]
     },
     "metadata": {},
     "output_type": "display_data"
    }
   ],
   "source": [
    "plt.bar(np.arange(m) + 0.6, rho, color='blue', width=0.4, label='Real')\n",
    "plt.bar(np.arange(m) + 1, rho_est, color='green', width=0.4, label='Estimated')\n",
    "plt.legend()\n",
    "plt.show()"
   ]
  },
  {
   "cell_type": "code",
   "execution_count": 17,
   "metadata": {},
   "outputs": [
    {
     "data": {
      "image/png": "[encoded data removed]",
      "text/plain": [
       "<matplotlib.figure.Figure at 0x10cc1c850>"
      ]
     },
     "metadata": {},
     "output_type": "display_data"
    }
   ],
   "source": [
    "fig = plt.figure(figsize=(8,6))\n",
    "plt.plot(Ls, linewidth=1)\n",
    "plt.xlabel('Iteration')\n",
    "plt.ylabel('Log-Likelihood function value')\n",
    "plt.show()"
   ]
  },
  {
   "cell_type": "markdown",
   "metadata": {},
   "source": [
    "We see that the algorithm has converged on approximately the correct solution!"
   ]
  }
 ],
 "metadata": {
  "kernelspec": {
   "display_name": "Python 2",
   "language": "python",
   "name": "python2"
  },
  "language_info": {
   "codemirror_mode": {
    "name": "ipython",
    "version": 2
   },
   "file_extension": ".py",
   "mimetype": "text/x-python",
   "name": "python",
   "nbconvert_exporter": "python",
   "pygments_lexer": "ipython2",
   "version": "2.7.12"
  }
 },
 "nbformat": 4,
 "nbformat_minor": 2
}
