{
 "cells": [
  {
   "cell_type": "markdown",
   "metadata": {},
   "source": [
    "# Land Usage for Utility Scale PV Power Plants\n",
    "\n",
    "I received a message from an old friend this afternoon who said, \"Random question. How big of site would you guess is required for a 1 megawatt solar field?\" To which I responded, in classic Ph.D. fashion, \"Well, that's complicated.\" \n",
    "\n",
    "As you might guess, the answer depends heavily on the cell, module, and mounting/tracking technologies used at the power plant. Obviously, a plant built with 25% efficient modules will use less land than a plant built with 15% efficient modules for the same overall capacity. You also need to consider design decisions like [ground cover ratio](https://www.researchgate.net/figure/Ground-coverage-ratio-GCR-is-the-ratio-of-module-area-to-land-area-or-the-ratio-of_fig1_304106060) and many others to exactly estimate this quantity.\n",
    "\n",
    "The \"Suncyclopedia\" [states that](http://www.suncyclopedia.com/en/area-required-for-solar-pv-power-plants/) \"A simple rule of thumb is to take 100 sqft for every 1kW of solar panels.\" But to be honest, I did trust that number! So, I did a little more digging. As it turns out, Wikipedia helpfully provides a [list of photovoltaic power stations that are larger than 200 megawatts in current net capacity](https://en.wikipedia.org/wiki/List_of_photovoltaic_power_stations), which includes nameplate capacity and total land usage for most of the listed power plants.\n",
    "\n",
    "Having never actually scraped data from a Wikipedia table before, I figured this was a great opportunity to try out a new Python skill, while doing a bit of light research and data analysis. I used `requests` and `Beautiful Soup` to extract the table from Wikipedia and `pandas` to turn the raw html data into a table for analysis.\n",
    "\n",
    "We begin with the imports we'll need:"
   ]
  },
  {
   "cell_type": "code",
   "execution_count": 1,
   "metadata": {},
   "outputs": [],
   "source": [
    "import requests\n",
    "from bs4 import BeautifulSoup\n",
    "import pandas as pd"
   ]
  },
  {
   "cell_type": "markdown",
   "metadata": {},
   "source": [
    "First things first, set up the HTML request, parse the HTML response, and extract the table."
   ]
  },
  {
   "cell_type": "code",
   "execution_count": 2,
   "metadata": {
    "scrolled": true
   },
   "outputs": [],
   "source": [
    "website_url = requests.get('https://en.wikipedia.org/wiki/List_of_photovoltaic_power_stations').text\n",
    "soup = BeautifulSoup(website_url, 'lxml')\n",
    "my_table = soup.find('table', {'class': 'wikitable sortable'})"
   ]
  },
  {
   "cell_type": "markdown",
   "metadata": {},
   "source": [
    "Tables in Wikipedia tend to have references in the cell text, which is annoying if the cell is supposed to have a float value. Finding and removing the references later can be a hassle, because the references are numeric as is the data we are looking for (and I'm not that proficient at regex). Luckily, `BeautifulSoup` makes searching and modifying HTML trees exceptionally easy. In the cell below, we search all cells in the table and remove all examples of the `reference` class."
   ]
  },
  {
   "cell_type": "code",
   "execution_count": 3,
   "metadata": {
    "scrolled": true
   },
   "outputs": [],
   "source": [
    "for row in my_table.findAll('tr'):\n",
    "    cells = row.findAll(['th', 'td'])\n",
    "    for cell in cells:\n",
    "        references = cell.findAll('sup', {'class': 'reference'})\n",
    "        if references:\n",
    "            for ref in references:\n",
    "                ref.extract()"
   ]
  },
  {
   "cell_type": "markdown",
   "metadata": {},
   "source": [
    "`pandas` has all for data I/O needs covered, and comes with an HTML reader. We simply convert the HTML tree to a string and pass it to `pandas` to make a data frame out of."
   ]
  },
  {
   "cell_type": "code",
   "execution_count": 4,
   "metadata": {},
   "outputs": [],
   "source": [
    "df = pd.read_html(str(my_table), header=0)[0]"
   ]
  },
  {
   "cell_type": "markdown",
   "metadata": {},
   "source": [
    "Now we just need to clean up some column names and data types. Some of the entries in the `Capacity` column contain an asterisk character (`*`) as explained on the Wikipedia page. As with the references, we need to remove these characters to isolate the numerica data. The second to last line below strips all non-numeric characters from the `Capacity` column."
   ]
  },
  {
   "cell_type": "code",
   "execution_count": 5,
   "metadata": {
    "scrolled": false
   },
   "outputs": [],
   "source": [
    "cols = list(df.columns)\n",
    "cols[3] = 'Capacity'\n",
    "cols[4] = 'YearlyEnergy'\n",
    "cols[5] = 'LandSize'\n",
    "df.columns = cols\n",
    "df['Capacity'] = df['Capacity'].str.extract('(\\d+)', expand=False)\n",
    "df = df.astype({'LandSize': float, 'Capacity': float})"
   ]
  },
  {
   "cell_type": "markdown",
   "metadata": {},
   "source": [
    "And now we have successfully converted the table on Wikipedia to a useable data frame!"
   ]
  },
  {
   "cell_type": "code",
   "execution_count": 6,
   "metadata": {},
   "outputs": [
    {
     "data": {
      "text/html": [
       "<div>\n",
       "<style scoped>\n",
       "    .dataframe tbody tr th:only-of-type {\n",
       "        vertical-align: middle;\n",
       "    }\n",
       "\n",
       "    .dataframe tbody tr th {\n",
       "        vertical-align: top;\n",
       "    }\n",
       "\n",
       "    .dataframe thead th {\n",
       "        text-align: right;\n",
       "    }\n",
       "</style>\n",
       "<table border=\"1\" class=\"dataframe\">\n",
       "  <thead>\n",
       "    <tr style=\"text-align: right;\">\n",
       "      <th></th>\n",
       "      <th>Name</th>\n",
       "      <th>Country</th>\n",
       "      <th>Location</th>\n",
       "      <th>Capacity</th>\n",
       "      <th>YearlyEnergy</th>\n",
       "      <th>LandSize</th>\n",
       "      <th>Year</th>\n",
       "      <th>Remarks</th>\n",
       "      <th>Ref</th>\n",
       "    </tr>\n",
       "  </thead>\n",
       "  <tbody>\n",
       "    <tr>\n",
       "      <th>0</th>\n",
       "      <td>Tengger Desert Solar Park</td>\n",
       "      <td>China</td>\n",
       "      <td>37°33′00″N 105°03′14″E﻿ / ﻿37.55000°N 105.05389°E</td>\n",
       "      <td>1547.0</td>\n",
       "      <td>NaN</td>\n",
       "      <td>43.0</td>\n",
       "      <td>2016.0</td>\n",
       "      <td>1,547 MW solar power was installed in Zhongwei...</td>\n",
       "      <td>NaN</td>\n",
       "    </tr>\n",
       "    <tr>\n",
       "      <th>1</th>\n",
       "      <td>Pavagada Solar Park</td>\n",
       "      <td>India</td>\n",
       "      <td>14°05′49″N 77°16′13″E﻿ / ﻿14.09694°N 77.27028°E</td>\n",
       "      <td>1400.0</td>\n",
       "      <td>NaN</td>\n",
       "      <td>53.0</td>\n",
       "      <td>2019.0</td>\n",
       "      <td>In Karnataka state, total planned capacity 2,0...</td>\n",
       "      <td>NaN</td>\n",
       "    </tr>\n",
       "    <tr>\n",
       "      <th>2</th>\n",
       "      <td>Bhadla Solar Park</td>\n",
       "      <td>India</td>\n",
       "      <td>27°32′22.81″N 71°54′54.91″E﻿ / ﻿27.5396694°N 7...</td>\n",
       "      <td>1365.0</td>\n",
       "      <td>NaN</td>\n",
       "      <td>40.0</td>\n",
       "      <td>2018.0</td>\n",
       "      <td>The park is proposed to have a capacity of 2,2...</td>\n",
       "      <td>NaN</td>\n",
       "    </tr>\n",
       "    <tr>\n",
       "      <th>3</th>\n",
       "      <td>Kurnool Ultra Mega Solar Park</td>\n",
       "      <td>India</td>\n",
       "      <td>15°40′53″N 78°17′01″E﻿ / ﻿15.681522°N 78.283749°E</td>\n",
       "      <td>1000.0</td>\n",
       "      <td>NaN</td>\n",
       "      <td>24.0</td>\n",
       "      <td>2017.0</td>\n",
       "      <td>1000 MW operational as of December 2017</td>\n",
       "      <td>NaN</td>\n",
       "    </tr>\n",
       "    <tr>\n",
       "      <th>4</th>\n",
       "      <td>Datong Solar Power Top Runner Base</td>\n",
       "      <td>China</td>\n",
       "      <td>40°04′25″N 113°08′12″E﻿ / ﻿40.07361°N 113.1366...</td>\n",
       "      <td>1000.0</td>\n",
       "      <td>NaN</td>\n",
       "      <td>NaN</td>\n",
       "      <td>2016.0</td>\n",
       "      <td>1 GW Phase I completed in June 2016. Total cap...</td>\n",
       "      <td>NaN</td>\n",
       "    </tr>\n",
       "  </tbody>\n",
       "</table>\n",
       "</div>"
      ],
      "text/plain": [
       "                                 Name Country  \\\n",
       "0           Tengger Desert Solar Park   China   \n",
       "1                 Pavagada Solar Park   India   \n",
       "2                   Bhadla Solar Park   India   \n",
       "3       Kurnool Ultra Mega Solar Park   India   \n",
       "4  Datong Solar Power Top Runner Base   China   \n",
       "\n",
       "                                            Location  Capacity  YearlyEnergy  \\\n",
       "0  37°33′00″N 105°03′14″E﻿ / ﻿37.55000°N 105.05389°E    1547.0           NaN   \n",
       "1    14°05′49″N 77°16′13″E﻿ / ﻿14.09694°N 77.27028°E    1400.0           NaN   \n",
       "2  27°32′22.81″N 71°54′54.91″E﻿ / ﻿27.5396694°N 7...    1365.0           NaN   \n",
       "3  15°40′53″N 78°17′01″E﻿ / ﻿15.681522°N 78.283749°E    1000.0           NaN   \n",
       "4  40°04′25″N 113°08′12″E﻿ / ﻿40.07361°N 113.1366...    1000.0           NaN   \n",
       "\n",
       "   LandSize    Year                                            Remarks  Ref  \n",
       "0      43.0  2016.0  1,547 MW solar power was installed in Zhongwei...  NaN  \n",
       "1      53.0  2019.0  In Karnataka state, total planned capacity 2,0...  NaN  \n",
       "2      40.0  2018.0  The park is proposed to have a capacity of 2,2...  NaN  \n",
       "3      24.0  2017.0            1000 MW operational as of December 2017  NaN  \n",
       "4       NaN  2016.0  1 GW Phase I completed in June 2016. Total cap...  NaN  "
      ]
     },
     "execution_count": 6,
     "metadata": {},
     "output_type": "execute_result"
    }
   ],
   "source": [
    "df.head()"
   ]
  },
  {
   "cell_type": "markdown",
   "metadata": {},
   "source": [
    "And now, let's answer my friend's original question and check if the simple rule of thumb is correct. The data in the table is in terms of MW and square kilometers, so we'll need to change our units to kW and square feet to compare to the given rule of thumb."
   ]
  },
  {
   "cell_type": "code",
   "execution_count": 7,
   "metadata": {},
   "outputs": [
    {
     "data": {
      "image/png": "[encoded data removed]",
      "text/plain": [
       "<Figure size 720x432 with 1 Axes>"
      ]
     },
     "metadata": {},
     "output_type": "display_data"
    }
   ],
   "source": [
    "land_usage = (df['LandSize'] * 1.076e+7 / df['Capacity'] / 1000).dropna()\n",
    "plt.figure(figsize=(10,6))\n",
    "plt.hist(land_usage, bins=20)\n",
    "plt.xlabel('Square feet per kW')\n",
    "plt.ylabel('System Count')\n",
    "title1 = 'Land usage for solar power plants, exracted from:\\n'\n",
    "title2 = 'https://en.wikipedia.org/wiki/List_of_photovoltaic_power_stations'\n",
    "plt.title(title1 + title2)\n",
    "plt.axvline(100, ls='--', color='r', label='rule of thumb: 100 ft^2/kW')\n",
    "med = np.median(land_usage)\n",
    "plt.axvline(med, ls=':', color='orange', label='median:           {:.0f} ft^2/kW'.format(med))\n",
    "plt.legend();"
   ]
  },
  {
   "cell_type": "markdown",
   "metadata": {},
   "source": [
    "So, we see that the median value for this set of power plants is more than three times larger than the standard rule of thumb!"
   ]
  }
 ],
 "metadata": {
  "kernelspec": {
   "display_name": "Python 3",
   "language": "python",
   "name": "python3"
  },
  "language_info": {
   "codemirror_mode": {
    "name": "ipython",
    "version": 3
   },
   "file_extension": ".py",
   "mimetype": "text/x-python",
   "name": "python",
   "nbconvert_exporter": "python",
   "pygments_lexer": "ipython3",
   "version": "3.7.0"
  }
 },
 "nbformat": 4,
 "nbformat_minor": 2
}
